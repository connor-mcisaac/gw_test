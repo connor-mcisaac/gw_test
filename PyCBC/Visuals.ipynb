{
 "cells": [
  {
   "cell_type": "code",
   "execution_count": 1,
   "metadata": {},
   "outputs": [],
   "source": [
    "#Import required modules\n",
    "from pycbc.catalog import Merger\n",
    "import matplotlib.pyplot as plt\n",
    "%matplotlib notebook"
   ]
  },
  {
   "cell_type": "markdown",
   "metadata": {},
   "source": [
    "First load data from event and plot the time series. Find the PSD of the data and whiten the data.\n",
    "Finally bandpass the data."
   ]
  },
  {
   "cell_type": "code",
   "execution_count": null,
   "metadata": {},
   "outputs": [],
   "source": [
    "#Load data from LOSC\n",
    "gw = Merger('GW150914')\n",
    "han0 = gw.strain('H1')\n",
    "liv0 = gw.strain('L1')\n",
    "\n",
    "#Crop Data around event and plot the time-series\n",
    "han_plot = han0.time_slice(gw.time - 1, gw.time + 1)\n",
    "liv_plot = liv0.time_slice(gw.time - 1, gw.time + 1)\n",
    "\n",
    "plt.figure()\n",
    "plt.title('Uncleaned Strain Time-Series')\n",
    "plt.subplot(2, 1, 1)\n",
    "plt.plot(han_plot.sample_times, han_plot)\n",
    "plt.xlabel('gps time')\n",
    "plt.ylabel('strain')\n",
    "plt.grid()\n",
    "plt.subplot(2, 1, 2)\n",
    "plt.plot(liv_plot.sample_times, liv_plot)\n",
    "plt.xlabel('gps time')\n",
    "plt.ylabel('strain')\n",
    "plt.grid()\n",
    "\n",
    "#Find the PSD using Welch's method with 4s crops\n",
    "han_psd = han0.psd(4)\n",
    "liv_psd = liv0.psd(4)\n",
    "\n",
    "plt.figure()\n",
    "plt.title('PSD')\n",
    "plt.plot(han_psd.sample.frequencies, han_psd, label='H1')\n",
    "plt.plot(han_psd.sample.frequencies, han_psd, label='L1')\n",
    "plt.xscale('log')\n",
    "plt.yscale('log')\n",
    "plt.xlabel('strain^2')\n",
    "plt.ylabel('frequency')\n",
    "plt.legend()\n",
    "plt.grid()\n",
    "\n",
    "#Whiten data using 4 second crops for the PSD and truncating the filter to 4s\n",
    "han_white = han0.whiten(4, 4)\n",
    "liv_white = liv0.whiten(4, 4)\n",
    "\n",
    "han_plot = han_white.time_slice(gw.time - 1, gw.time + 1)\n",
    "liv_plot = liv_white.time_slice(gw.time - 1, gw.time + 1)\n",
    "\n",
    "plt.figure()\n",
    "plt.title('Whitened Data')\n",
    "plt.subplot(2, 1, 1)\n",
    "plt.plot(han_plot.sample_times, han_plot)\n",
    "plt.xlabel('gps time')\n",
    "plt.ylabel('strain')\n",
    "plt.grid()\n",
    "plt.subplot(2, 1, 2)\n",
    "plt.plot(liv_plot.sample_times, liv_plot)\n",
    "plt.xlabel('gps time')\n",
    "plt.ylabel('strain')\n",
    "plt.grid()\n",
    "\n",
    "#Bandpass the data between 30Hz and 500Hz\n",
    "#512 is the order of the filter, affecting the riples in the bandpassed area\n",
    "han_bp = han0.highpass_fir(30, 512).lowpass_fir(500, 512)\n",
    "liv_bp = liv0.highpass_fir(30, 512).lowpass_fir(500, 512)\n",
    "\n",
    "han_plot = han_bp.time_slice(gw.time - 1, gw.time + 1)\n",
    "liv_plot = liv_bp.time_slice(gw.time - 1, gw.time + 1)\n",
    "\n",
    "plt.figure()\n",
    "plt.title('Whitened and Bandpassed Data')\n",
    "plt.subplot(2, 1, 1)\n",
    "plt.plot(han_plot.sample_times, han_plot)\n",
    "plt.xlabel('gps time')\n",
    "plt.ylabel('strain')\n",
    "plt.grid()\n",
    "plt.subplot(2, 1, 2)\n",
    "plt.plot(liv_plot.sample_times, liv_plot)\n",
    "plt.xlabel('gps time')\n",
    "plt.ylabel('strain')\n",
    "plt.grid()"
   ]
  },
  {
   "cell_type": "code",
   "execution_count": null,
   "metadata": {},
   "outputs": [],
   "source": []
  }
 ],
 "metadata": {
  "kernelspec": {
   "display_name": "Python 2",
   "language": "python",
   "name": "python2"
  },
  "language_info": {
   "codemirror_mode": {
    "name": "ipython",
    "version": 3
   },
   "file_extension": ".py",
   "mimetype": "text/x-python",
   "name": "python",
   "nbconvert_exporter": "python",
   "pygments_lexer": "ipython3",
   "version": "3.7.0"
  }
 },
 "nbformat": 4,
 "nbformat_minor": 2
}
