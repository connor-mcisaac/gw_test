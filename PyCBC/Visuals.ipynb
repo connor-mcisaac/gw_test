{
 "cells": [
  {
   "cell_type": "code",
   "execution_count": 1,
   "metadata": {},
   "outputs": [],
   "source": [
    "#Import required modules\n",
    "from pycbc.catalog import Merger\n",
    "import matplotlib.pyplot as plt\n",
    "%matplotlib notebook"
   ]
  },
  {
   "cell_type": "markdown",
   "metadata": {},
   "source": [
    "First load data from event and plot the time series. Find the PSD of the data and whiten the data.\n",
    "Finally bandpass the data."
   ]
  },
  {
   "cell_type": "code",
   "execution_count": 2,
   "metadata": {},
   "outputs": [
    {
     "ename": "ModuleNotFoundError",
     "evalue": "No module named 'OpenSSL'",
     "output_type": "error",
     "traceback": [
      "\u001b[0;31m---------------------------------------------------------------------------\u001b[0m",
      "\u001b[0;31mModuleNotFoundError\u001b[0m                       Traceback (most recent call last)",
      "\u001b[0;32m<ipython-input-2-087e1057d551>\u001b[0m in \u001b[0;36m<module>\u001b[0;34m\u001b[0m\n\u001b[1;32m      1\u001b[0m \u001b[0;31m#Load data from LOSC\u001b[0m\u001b[0;34m\u001b[0m\u001b[0;34m\u001b[0m\u001b[0m\n\u001b[1;32m      2\u001b[0m \u001b[0mgw\u001b[0m \u001b[0;34m=\u001b[0m \u001b[0mMerger\u001b[0m\u001b[0;34m(\u001b[0m\u001b[0;34m'GW150914'\u001b[0m\u001b[0;34m)\u001b[0m\u001b[0;34m\u001b[0m\u001b[0m\n\u001b[0;32m----> 3\u001b[0;31m \u001b[0mhan0\u001b[0m \u001b[0;34m=\u001b[0m \u001b[0mgw\u001b[0m\u001b[0;34m.\u001b[0m\u001b[0mstrain\u001b[0m\u001b[0;34m(\u001b[0m\u001b[0;34m'H1'\u001b[0m\u001b[0;34m)\u001b[0m\u001b[0;34m\u001b[0m\u001b[0m\n\u001b[0m\u001b[1;32m      4\u001b[0m \u001b[0mliv0\u001b[0m \u001b[0;34m=\u001b[0m \u001b[0mgw\u001b[0m\u001b[0;34m.\u001b[0m\u001b[0mstrain\u001b[0m\u001b[0;34m(\u001b[0m\u001b[0;34m'L1'\u001b[0m\u001b[0;34m)\u001b[0m\u001b[0;34m\u001b[0m\u001b[0m\n\u001b[1;32m      5\u001b[0m \u001b[0;34m\u001b[0m\u001b[0m\n",
      "\u001b[0;32m~/.local/lib/python3.7/site-packages/pycbc/catalog/__init__.py\u001b[0m in \u001b[0;36mstrain\u001b[0;34m(self, ifo)\u001b[0m\n\u001b[1;32m     85\u001b[0m         \"\"\"\n\u001b[1;32m     86\u001b[0m         \u001b[0;32mfrom\u001b[0m \u001b[0mastropy\u001b[0m\u001b[0;34m.\u001b[0m\u001b[0mutils\u001b[0m\u001b[0;34m.\u001b[0m\u001b[0mdata\u001b[0m \u001b[0;32mimport\u001b[0m \u001b[0mdownload_file\u001b[0m\u001b[0;34m\u001b[0m\u001b[0m\n\u001b[0;32m---> 87\u001b[0;31m         \u001b[0;32mfrom\u001b[0m \u001b[0mpycbc\u001b[0m\u001b[0;34m.\u001b[0m\u001b[0mframe\u001b[0m \u001b[0;32mimport\u001b[0m \u001b[0mread_frame\u001b[0m\u001b[0;34m\u001b[0m\u001b[0m\n\u001b[0m\u001b[1;32m     88\u001b[0m \u001b[0;34m\u001b[0m\u001b[0m\n\u001b[1;32m     89\u001b[0m         \u001b[0mchannel\u001b[0m \u001b[0;34m=\u001b[0m \u001b[0;34m'%s:LOSC-STRAIN'\u001b[0m \u001b[0;34m%\u001b[0m \u001b[0mifo\u001b[0m\u001b[0;34m\u001b[0m\u001b[0m\n",
      "\u001b[0;32m~/.local/lib/python3.7/site-packages/pycbc/frame/__init__.py\u001b[0m in \u001b[0;36m<module>\u001b[0;34m\u001b[0m\n\u001b[0;32m----> 1\u001b[0;31m from . frame import (locations_to_cache, read_frame, datafind_connection,\n\u001b[0m\u001b[1;32m      2\u001b[0m                      \u001b[0mquery_and_read_frame\u001b[0m\u001b[0;34m,\u001b[0m \u001b[0mframe_paths\u001b[0m\u001b[0;34m,\u001b[0m \u001b[0mwrite_frame\u001b[0m\u001b[0;34m,\u001b[0m\u001b[0;34m\u001b[0m\u001b[0m\n\u001b[1;32m      3\u001b[0m                      DataBuffer, StatusBuffer)\n\u001b[1;32m      4\u001b[0m \u001b[0;34m\u001b[0m\u001b[0m\n\u001b[1;32m      5\u001b[0m \u001b[0;34m\u001b[0m\u001b[0m\n",
      "\u001b[0;32m~/.local/lib/python3.7/site-packages/pycbc/frame/frame.py\u001b[0m in \u001b[0;36m<module>\u001b[0;34m\u001b[0m\n\u001b[1;32m     22\u001b[0m \u001b[0;32mimport\u001b[0m \u001b[0mnumpy\u001b[0m\u001b[0;34m\u001b[0m\u001b[0m\n\u001b[1;32m     23\u001b[0m \u001b[0;32mimport\u001b[0m \u001b[0mos\u001b[0m\u001b[0;34m.\u001b[0m\u001b[0mpath\u001b[0m\u001b[0;34m,\u001b[0m \u001b[0mglob\u001b[0m\u001b[0;34m,\u001b[0m \u001b[0mtime\u001b[0m\u001b[0;34m\u001b[0m\u001b[0m\n\u001b[0;32m---> 24\u001b[0;31m \u001b[0;32mimport\u001b[0m \u001b[0mglue\u001b[0m\u001b[0;34m.\u001b[0m\u001b[0mdatafind\u001b[0m\u001b[0;34m\u001b[0m\u001b[0m\n\u001b[0m\u001b[1;32m     25\u001b[0m \u001b[0;32mfrom\u001b[0m \u001b[0mpycbc\u001b[0m\u001b[0;34m.\u001b[0m\u001b[0mtypes\u001b[0m \u001b[0;32mimport\u001b[0m \u001b[0mTimeSeries\u001b[0m\u001b[0;34m,\u001b[0m \u001b[0mzeros\u001b[0m\u001b[0;34m\u001b[0m\u001b[0m\n\u001b[1;32m     26\u001b[0m \u001b[0;34m\u001b[0m\u001b[0m\n",
      "\u001b[0;32m~/.local/lib/python3.7/site-packages/glue/datafind.py\u001b[0m in \u001b[0;36m<module>\u001b[0;34m\u001b[0m\n\u001b[1;32m     68\u001b[0m \u001b[0;32mfrom\u001b[0m \u001b[0msix\u001b[0m\u001b[0;34m.\u001b[0m\u001b[0mmoves\u001b[0m \u001b[0;32mimport\u001b[0m \u001b[0mhttp_client\u001b[0m\u001b[0;34m\u001b[0m\u001b[0m\n\u001b[1;32m     69\u001b[0m \u001b[0;34m\u001b[0m\u001b[0m\n\u001b[0;32m---> 70\u001b[0;31m \u001b[0;32mfrom\u001b[0m \u001b[0mOpenSSL\u001b[0m \u001b[0;32mimport\u001b[0m \u001b[0mcrypto\u001b[0m\u001b[0;34m\u001b[0m\u001b[0m\n\u001b[0m\u001b[1;32m     71\u001b[0m \u001b[0;34m\u001b[0m\u001b[0m\n\u001b[1;32m     72\u001b[0m \u001b[0;32mtry\u001b[0m\u001b[0;34m:\u001b[0m\u001b[0;34m\u001b[0m\u001b[0m\n",
      "\u001b[0;31mModuleNotFoundError\u001b[0m: No module named 'OpenSSL'"
     ]
    }
   ],
   "source": [
    "#Load data from LOSC\n",
    "gw = Merger('GW150914')\n",
    "han0 = gw.strain('H1')\n",
    "liv0 = gw.strain('L1')\n",
    "\n",
    "#Crop Data around event and plot the time-series\n",
    "han_plot = han0.time_slice(gw.time - 1, gw.time + 1)\n",
    "liv_plot = liv0.time_slice(gw.time - 1, gw.time + 1)\n",
    "\n",
    "plt.figure()\n",
    "plt.title('Uncleaned Strain Time-Series')\n",
    "plt.subplot(2, 1, 1)\n",
    "plt.plot(han_plot.sample_times, han_plot)\n",
    "plt.xlabel('gps time')\n",
    "plt.ylabel('strain')\n",
    "plt.grid()\n",
    "plt.subplot(2, 1, 2)\n",
    "plt.plot(liv_plot.sample_times, liv_plot)\n",
    "plt.xlabel('gps time')\n",
    "plt.ylabel('strain')\n",
    "plt.grid()\n",
    "\n",
    "#Find the PSD using Welch's method with 4s crops\n",
    "han_psd = han0.psd(4.)\n",
    "liv_psd = liv0.psd(4.)\n",
    "\n",
    "plt.figure()\n",
    "plt.title('PSD')\n",
    "plt.plot(han_psd.sample.frequencies, han_psd, label='H1')\n",
    "plt.plot(han_psd.sample.frequencies, han_psd, label='L1')\n",
    "plt.xscale('log')\n",
    "plt.yscale('log')\n",
    "plt.xlabel('strain^2')\n",
    "plt.ylabel('frequency')\n",
    "plt.legend()\n",
    "plt.grid()\n",
    "\n",
    "#Whiten data using 4 second crops for the PSD and truncating the filter to 4s\n",
    "han_white = han0.whiten(4, 4)\n",
    "liv_white = liv0.whiten(4, 4)\n",
    "\n",
    "han_plot = han_white.time_slice(gw.time - 1, gw.time + 1)\n",
    "liv_plot = liv_white.time_slice(gw.time - 1, gw.time + 1)\n",
    "\n",
    "plt.figure()\n",
    "plt.title('Whitened Data')\n",
    "plt.subplot(2, 1, 1)\n",
    "plt.plot(han_plot.sample_times, han_plot)\n",
    "plt.xlabel('gps time')\n",
    "plt.ylabel('strain')\n",
    "plt.grid()\n",
    "plt.subplot(2, 1, 2)\n",
    "plt.plot(liv_plot.sample_times, liv_plot)\n",
    "plt.xlabel('gps time')\n",
    "plt.ylabel('strain')\n",
    "plt.grid()\n",
    "\n",
    "#Bandpass the data between 30Hz and 500Hz\n",
    "#512 is the order of the filter, affecting the riples in the bandpassed area\n",
    "han_bp = han0.highpass_fir(30, 512).lowpass_fir(500, 512)\n",
    "liv_bp = liv0.highpass_fir(30, 512).lowpass_fir(500, 512)\n",
    "\n",
    "han_plot = han_bp.time_slice(gw.time - 1, gw.time + 1)\n",
    "liv_plot = liv_bp.time_slice(gw.time - 1, gw.time + 1)\n",
    "\n",
    "plt.figure()\n",
    "plt.title('Whitened and Bandpassed Data')\n",
    "plt.subplot(2, 1, 1)\n",
    "plt.plot(han_plot.sample_times, han_plot)\n",
    "plt.xlabel('gps time')\n",
    "plt.ylabel('strain')\n",
    "plt.grid()\n",
    "plt.subplot(2, 1, 2)\n",
    "plt.plot(liv_plot.sample_times, liv_plot)\n",
    "plt.xlabel('gps time')\n",
    "plt.ylabel('strain')\n",
    "plt.grid()"
   ]
  },
  {
   "cell_type": "code",
   "execution_count": null,
   "metadata": {},
   "outputs": [],
   "source": []
  }
 ],
 "metadata": {
  "kernelspec": {
   "display_name": "Python 2",
   "language": "python",
   "name": "python2"
  },
  "language_info": {
   "codemirror_mode": {
    "name": "ipython",
    "version": 3
   },
   "file_extension": ".py",
   "mimetype": "text/x-python",
   "name": "python",
   "nbconvert_exporter": "python",
   "pygments_lexer": "ipython3",
   "version": "3.7.0"
  }
 },
 "nbformat": 4,
 "nbformat_minor": 2
}
