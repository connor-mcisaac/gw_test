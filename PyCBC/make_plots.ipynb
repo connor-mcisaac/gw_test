{
 "cells": [
  {
   "cell_type": "code",
   "execution_count": null,
   "metadata": {},
   "outputs": [],
   "source": [
    "import numpy as np\n",
    "import matplotlib.pyplot as plt\n",
    "import pylab\n",
    "from pycbc import frame\n",
    "from pycbc.psd import interpolate, inverse_spectrum_truncation\n",
    "from pycbc.waveform import get_fd_waveform, get_td_waveform\n",
    "from pycbc.filter import highpass_fir, matched_filter, match\n",
    "from pycbc.vetoes import power_chisq_bins, power_chisq\n",
    "from pycbc.events import newsnr\n",
    "%matplotlib inline"
   ]
  },
  {
   "cell_type": "code",
   "execution_count": null,
   "metadata": {},
   "outputs": [],
   "source": [
    "hstrain = frame.read_frame('../Data/H-H1_LOSC_4_V1-1126076416-4096.gwf', 'H1:LOSC-STRAIN')\n",
    "lstrain = frame.read_frame('../Data/L-L1_LOSC_4_V1-1126076416-4096.gwf', 'L1:LOSC-STRAIN')"
   ]
  },
  {
   "cell_type": "code",
   "execution_count": null,
   "metadata": {},
   "outputs": [],
   "source": [
    "hp, hc = get_td_waveform(approximant=\"IMRPhenomD\", mass1=20, mass2=20, delta_t=hstrain.delta_t, f_lower=30, distance = 1500)\n",
    "fp, fc = get_fd_waveform(approximant=\"IMRPhenomD\", mass1=20, mass2=20, delta_f=hstrain.delta_f, f_lower=30, distance = 1500)\n",
    "pp = np.abs(fp*np.conj(fp))"
   ]
  },
  {
   "cell_type": "code",
   "execution_count": null,
   "metadata": {},
   "outputs": [],
   "source": [
    "plt.figure(figsize=(16, 8))\n",
    "plt.plot(hp.sample_times, hp)\n",
    "plt.xlim([-0.5, 0.1])\n",
    "plt.xlabel('Time - seconds')\n",
    "plt.ylabel('Strain Amplitude')\n",
    "plt.grid()\n",
    "plt.savefig('wave.png')\n",
    "plt.figure(figsize=(16, 8))\n",
    "plt.plot(pp.sample_frequencies, pp)\n",
    "plt.xlim([fp.sample_frequencies[0], 500])\n",
    "plt.xlabel('Frequency - hertz')\n",
    "plt.ylabel('Power')\n",
    "plt.grid()\n",
    "plt.savefig('freq.png')"
   ]
  },
  {
   "cell_type": "code",
   "execution_count": null,
   "metadata": {},
   "outputs": [],
   "source": [
    "hpsd = hstrain.psd(4)\n",
    "lpsd = lstrain.psd(4)"
   ]
  },
  {
   "cell_type": "code",
   "execution_count": null,
   "metadata": {},
   "outputs": [],
   "source": [
    "plt.figure(figsize=(16, 8))\n",
    "plt.title('PSD')\n",
    "plt.plot(hpsd.sample_frequencies, hpsd, label='Hanford', c='cornflowerblue')\n",
    "plt.plot(lpsd.sample_frequencies, lpsd, label='Livingston', c='crimson')\n",
    "plt.xscale('log')\n",
    "plt.yscale('log')\n",
    "plt.xlim([10, 1500])\n",
    "plt.ylim([1e-47, 1e-38])\n",
    "plt.xlabel('Frequency - hertz')\n",
    "plt.ylabel('Power')\n",
    "plt.legend()\n",
    "plt.grid()\n",
    "plt.savefig('psd.png')"
   ]
  },
  {
   "cell_type": "code",
   "execution_count": null,
   "metadata": {},
   "outputs": [],
   "source": [
    "hwhite = hstrain.whiten(4, 4)"
   ]
  },
  {
   "cell_type": "code",
   "execution_count": null,
   "metadata": {},
   "outputs": [],
   "source": [
    "plt.figure(figsize=(16, 8))\n",
    "plt.title('Strain over 1 second')\n",
    "plt.plot(hstrain.sample_times, hstrain)\n",
    "plt.xlim([hstrain.sample_times[0] + 100, hstrain.sample_times[0] + 101])\n",
    "plt.ylim([-0.5*10**-18, 0.5*10**-18])\n",
    "plt.xlabel('GPS Time')\n",
    "plt.ylabel('Strain')\n",
    "plt.grid()\n",
    "plt.savefig('strain.png')\n",
    "plt.figure(figsize=(16, 8))\n",
    "plt.title('Whitened strain over 1 second')\n",
    "plt.plot(hwhite.sample_times, hwhite)\n",
    "plt.xlim([hstrain.sample_times[0] + 100, hstrain.sample_times[0] + 101])\n",
    "plt.ylim([-200, 200])\n",
    "plt.xlabel('GPS Time')\n",
    "plt.ylabel('Strain')\n",
    "plt.grid()\n",
    "plt.savefig('white.png')"
   ]
  },
  {
   "cell_type": "code",
   "execution_count": null,
   "metadata": {},
   "outputs": [],
   "source": [
    "hpsd = interpolate(hpsd, hstrain.delta_f)\n",
    "hpsd = inverse_spectrum_truncation(hpsd, hstrain.sample_rate * 4, low_frequency_cutoff=15)\n",
    "\n",
    "temp = hp.copy()\n",
    "temp.resize(len(hstrain))\n",
    "temp = temp.cyclic_time_shift(temp.start_time)\n",
    "\n",
    "snr = np.abs(matched_filter(temp, hstrain, psd=hpsd, low_frequency_cutoff=20))\n",
    "gt = snr.sample_times[np.argmax(snr[16*snr.sample_rate:len(snr)-16*snr.sample_rate])]\n",
    "gi = np.argmax(hwhite.sample_times > gt)\n",
    "\n",
    "t, f, q = hwhite[gi-int(hwhite.sample_rate*1):gi+int(hwhite.sample_rate*1)].qtransform(hp.delta_t, logfsteps=500, frange=(30, 1000))"
   ]
  },
  {
   "cell_type": "code",
   "execution_count": null,
   "metadata": {},
   "outputs": [],
   "source": [
    "plt.figure(figsize=(16, 8))\n",
    "plt.title('Strain time-series')\n",
    "plt.plot(hwhite.sample_times, hwhite)\n",
    "plt.xlim([gt - 0.5, gt + 0.5])\n",
    "plt.xlabel('GPS Time')\n",
    "plt.ylabel('Strain')\n",
    "plt.grid()\n",
    "plt.savefig('glitch.png')\n",
    "plt.figure(figsize=(16, 8))\n",
    "plt.title('SNR time-series')\n",
    "plt.plot(snr.sample_times, snr)\n",
    "plt.xlim([gt - 0.5, gt + 0.5])\n",
    "plt.ylim([0, 10])\n",
    "plt.xlabel('GPS Time')\n",
    "plt.ylabel('SNR')\n",
    "plt.grid()\n",
    "plt.savefig('glitch_snr.png')\n",
    "plt.figure(figsize=(16, 8))\n",
    "plt.title('Q-Scan')\n",
    "plt.xlabel('GPS Time')\n",
    "plt.ylabel('Frequency - hertz')\n",
    "pylab.pcolormesh(t, f, q**0.5)\n",
    "pylab.yscale('log')\n",
    "plt.savefig('glitch_q.png')"
   ]
  },
  {
   "cell_type": "code",
   "execution_count": null,
   "metadata": {},
   "outputs": [],
   "source": [
    "hhstrain = hstrain.copy()\n",
    "hhstrain += temp.cyclic_time_shift(32).numpy()\n",
    "hhwhite = hhstrain.whiten(4, 4)\n",
    "\n",
    "hsnr = np.abs(matched_filter(temp, hhstrain, psd=hpsd, low_frequency_cutoff=20))\n",
    "st = hhstrain.sample_times[32*hhstrain.sample_rate]\n",
    "si = np.argmax(hhwhite.sample_times > st)\n",
    "\n",
    "ht, hf, hq = hhwhite[si-int(hhwhite.sample_rate*1):si+int(hhwhite.sample_rate*1)].qtransform(hp.delta_t, logfsteps=500, frange=(30, 1000))"
   ]
  },
  {
   "cell_type": "code",
   "execution_count": null,
   "metadata": {},
   "outputs": [],
   "source": [
    "plt.figure(figsize=(16, 8))\n",
    "plt.title('Strain time-series')\n",
    "plt.plot(hhwhite.sample_times, hhwhite)\n",
    "plt.xlim([st - 0.5, st + 0.5])\n",
    "plt.ylim([-200, 200])\n",
    "plt.xlabel('GPS Time')\n",
    "plt.ylabel('Strain')\n",
    "plt.grid()\n",
    "plt.savefig('cbc.png')\n",
    "plt.figure(figsize=(16, 8))\n",
    "plt.title('SNR time-series')\n",
    "plt.plot(hsnr.sample_times, hsnr)\n",
    "plt.xlim([st - 0.5, st + 0.5])\n",
    "plt.ylim([0, 10])\n",
    "plt.xlabel('GPS Time')\n",
    "plt.ylabel('SNR')\n",
    "plt.grid()\n",
    "plt.savefig('cbc_snr.png')\n",
    "plt.figure(figsize=(16, 8))\n",
    "plt.title('Q-Scan')\n",
    "plt.xlabel('GPS Time')\n",
    "plt.ylabel('Frequency - hertz')\n",
    "pylab.pcolormesh(ht, hf, hq**0.5)\n",
    "pylab.yscale('log')\n",
    "plt.savefig('cbc_q.png')"
   ]
  },
  {
   "cell_type": "code",
   "execution_count": null,
   "metadata": {},
   "outputs": [],
   "source": [
    "nbins = 3\n",
    "tf = temp.to_frequencyseries()\n",
    "bins = power_chisq_bins(tf, nbins, hpsd, low_frequency_cutoff=20)\n",
    "print(bins)"
   ]
  },
  {
   "cell_type": "code",
   "execution_count": null,
   "metadata": {},
   "outputs": [],
   "source": [
    "c = ['cornflowerblue', 'crimson', 'darkgreen']\n",
    "l = ['low freq bin', 'mid freq bin', 'high freq bin']\n",
    "plt.figure(figsize=[16, 8])\n",
    "for i in range(nbins):\n",
    "    pf = tf[bins[i]:bins[i+1]]\n",
    "    plt.plot(tf.sample_frequencies[bins[i]:bins[i+1]], pf*np.conj(pf), c=c[i])\n",
    "    plt.xlim([0, 500])\n",
    "    plt.xlabel('Frequency - hertz')\n",
    "    plt.ylabel('Power')\n",
    "    plt.grid()\n",
    "plt.savefig('bins.png')"
   ]
  },
  {
   "cell_type": "code",
   "execution_count": null,
   "metadata": {},
   "outputs": [],
   "source": [
    "chi, bsnr = power_chisq(temp, hhstrain, nbins, hpsd, low_frequency_cutoff=20, return_bins=True)"
   ]
  },
  {
   "cell_type": "code",
   "execution_count": null,
   "metadata": {},
   "outputs": [],
   "source": [
    "plt.figure(figsize=[16, 8])\n",
    "for i in range(nbins):\n",
    "    bt = hhstrain.sample_times[32*hhstrain.sample_rate]\n",
    "    bi = np.argmax(bsnr[i].sample_times > st)\n",
    "    #plt.subplot(nbins, 1, i+1)\n",
    "    plt.plot(bsnr[i].sample_times, np.abs(bsnr[i]), c=c[i], label=l[i])\n",
    "    plt.xlim([bt - 0.1, bt + 0.1])\n",
    "    plt.ylim(0, 7)\n",
    "    plt.xlabel('GPS Time')\n",
    "    plt.ylabel('SNR')\n",
    "    plt.grid()\n",
    "    plt.legend()\n",
    "plt.savefig('cbc_bins.png')"
   ]
  },
  {
   "cell_type": "code",
   "execution_count": null,
   "metadata": {},
   "outputs": [],
   "source": [
    "plt.figure(figsize=[16, 8])\n",
    "for i in range(nbins):\n",
    "    bt = hhstrain.sample_times[32*hhstrain.sample_rate]\n",
    "    bi = np.argmax(bsnr[i].sample_times > st)\n",
    "    #plt.subplot(nbins, 1, i+1)\n",
    "    plt.plot(bsnr[i].sample_times, np.abs(bsnr[i]), c=c[i], label=l[i])\n",
    "    plt.xlim([gt - 0.1, gt + 0.1])\n",
    "    plt.ylim(0, 15)\n",
    "    plt.xlabel('GPS Time')\n",
    "    plt.ylabel('SNR')\n",
    "    plt.grid()\n",
    "    plt.legend()\n",
    "plt.savefig('glitch_bins.png')"
   ]
  },
  {
   "cell_type": "code",
   "execution_count": null,
   "metadata": {},
   "outputs": [],
   "source": [
    "newsnr = newsnr(hsnr, chi, q=nbins)\n",
    "\n",
    "plt.figure(figsize=(16, 8))\n",
    "plt.title('SNR time-series')\n",
    "plt.plot(hsnr.sample_times, hsnr, label='SNR')\n",
    "plt.plot(chi.sample_times, chi, label='chi squared')\n",
    "plt.plot(hsnr.sample_times, newsnr, label='new SNR')\n",
    "plt.xlim([st - 0.5, st + 0.5])\n",
    "plt.xlabel('GPS Time')\n",
    "plt.ylabel('SNR')\n",
    "plt.grid()\n",
    "plt.legend()\n",
    "plt.savefig('cbc_new.png')\n",
    "plt.figure(figsize=(16, 8))\n",
    "plt.title('SNR time-series')\n",
    "plt.plot(hsnr.sample_times, hsnr, label='SNR')\n",
    "plt.plot(chi.sample_times, chi, label='chi squared')\n",
    "plt.plot(newsnr.sample_times, newsnr, label='new SNR')\n",
    "plt.xlim([gt - 0.5, gt + 0.5])\n",
    "plt.xlabel('GPS Time')\n",
    "plt.ylabel('SNR')\n",
    "plt.grid()\n",
    "plt.legend()\n",
    "plt.savefig('glitch_new.png')"
   ]
  }
 ],
 "metadata": {
  "kernelspec": {
   "display_name": "Python 2",
   "language": "python",
   "name": "python2"
  },
  "language_info": {
   "codemirror_mode": {
    "name": "ipython",
    "version": 2
   },
   "file_extension": ".py",
   "mimetype": "text/x-python",
   "name": "python",
   "nbconvert_exporter": "python",
   "pygments_lexer": "ipython2",
   "version": "2.7.15"
  }
 },
 "nbformat": 4,
 "nbformat_minor": 2
}
