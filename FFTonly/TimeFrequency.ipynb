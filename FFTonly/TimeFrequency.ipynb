{
 "cells": [
  {
   "cell_type": "code",
   "execution_count": 2,
   "metadata": {},
   "outputs": [],
   "source": [
    "#Import required modules\n",
    "import numpy as np\n",
    "from scipy.interpolate import interp1d\n",
    "import h5py\n",
    "import matplotlib.pyplot as plt\n",
    "from gwosc.datasets import event_gps\n",
    "%matplotlib inline"
   ]
  },
  {
   "cell_type": "markdown",
   "metadata": {},
   "source": [
    "First import data from around GW150914 and whiten"
   ]
  },
  {
   "cell_type": "code",
   "execution_count": 65,
   "metadata": {},
   "outputs": [
    {
     "name": "stdout",
     "output_type": "stream",
     "text": [
      "time =  4096  namples =  16777216  sample rate =  4096\n",
      "GW150914 merger occured at t =  2048.4000000953674\n"
     ]
    }
   ],
   "source": [
    "def Hann(n, N):\n",
    "    \"\"\"Evalute a Hann window of length N at n\"\"\"\n",
    "    y = 0.5*(1-np.cos(2*np.pi*n/(N-1)))\n",
    "    return y\n",
    "\n",
    "\n",
    "def calcpsd(x, y, windowl, window):\n",
    "    \"\"\"Calculate the PSD from the signal time series averaged from the PSDs of length windowl.\n",
    "    Use given window to smooth each fft. Return the PSD as an interpolated function\"\"\"\n",
    "    dx = x[1] - x[0]\n",
    "    neach = int(windowl/dx)\n",
    "    nfft = int(2 * len(y)//neach - 1)\n",
    "    shift = int(np.ceil(neach/2))\n",
    "    freq = np.fft.rfftfreq(neach, dx)\n",
    "    asds = np.zeros((nfft, len(freq)), dtype='complex')\n",
    "    psds = np.zeros((nfft, len(freq)), dtype='complex')\n",
    "    mask = window(np.arange(neach), neach)\n",
    "    for i in range(0, nfft):\n",
    "        windowed = y[i*shift:i*shift + neach]*mask\n",
    "        asds[i, :] = np.fft.rfft(windowed)\n",
    "        psds[i, :] = asds[i, :]*np.conj(asds[i, :])\n",
    "    psd = np.mean(psds**(0.5), axis=0)**2\n",
    "    psdi = interp1d(freq, np.real(psd), axis=0, bounds_error=False, fill_value=0)\n",
    "    return psdi\n",
    "\n",
    "\n",
    "def whiten(x, y, psd0, trunct):\n",
    "    \"\"\"use interpolated psd to whiten given data\"\"\"\n",
    "    dx = x[1] - x[0]\n",
    "    num = np.size(x)\n",
    "    fs = int(1/dx)\n",
    "    freqs = np.fft.rfftfreq(num, dx)\n",
    "    \"\"\"\n",
    "    fullf_psd = psd0(freqs)\n",
    "    fullt_psd = np.fft.irfft(fullf_psd)\n",
    "    cutstart = int(len(fullt_psd)//2) - int(trunct*fs/2)\n",
    "    trunct_psd = fullt_psd[cutstart:cutstart+trunct*fs]\n",
    "    truncf_psd_f = np.fft.rfftfreq(len(trunct_psd), dx)\n",
    "    truncf_psd_a = np.fft.rfft(trunct_psd)\n",
    "    psd = interp1d(truncf_psd_f, (truncf_psd_a*np.conj(truncf_psd_a))**0.5, axis=0, bounds_error=False, fill_value=0)\n",
    "    \"\"\"\n",
    "    yft = np.fft.rfft(y)\n",
    "    white_yft = yft/(np.sqrt(psd0(freqs)))\n",
    "    white_y = np.fft.irfft(white_yft, n=num)\n",
    "    return np.real(white_y)\n",
    "\n",
    "\n",
    "#Read a peice of strain data\n",
    "filename = '../Data/H-H1_LOSC_4_V2-1126257414-4096.hdf5'\n",
    "f = h5py.File(filename, 'r')\n",
    "strain0 = f['strain/Strain'][()]\n",
    "dt = f['strain/Strain'].attrs['Xspacing']\n",
    "tstart = f['meta/GPSstart'][()]\n",
    "tend = f['meta/Duration'][()] + tstart\n",
    "f.close()\n",
    "\n",
    "#Create a time vector starting at 0, and get the sampling frequency\n",
    "ts = np.arange(0, tend-tstart, dt)\n",
    "fs = int(1/dt)\n",
    "print('time = ', (tend - tstart), ' namples = ', len(strain0), ' sample rate = ', fs)\n",
    "eventt = event_gps('GW150914') - tstart\n",
    "print('GW150914 merger occured at t = ', eventt)\n",
    "\n",
    "#Whiten the strain data\n",
    "psd = calcpsd(ts, strain0, 4, Hann)\n",
    "strain1 = whiten(ts, strain0, psd, 4)\n",
    "\n",
    "#Cut time-series to small section around event\n",
    "strain = strain1[int((eventt-10)*fs):int((eventt+10)*fs)]\n",
    "ts = ts0[int((eventt-10)*fs):int((eventt+10)*fs)]"
   ]
  },
  {
   "cell_type": "markdown",
   "metadata": {},
   "source": [
    "Create a spectrogram of the data segment"
   ]
  },
  {
   "cell_type": "code",
   "execution_count": 89,
   "metadata": {},
   "outputs": [
    {
     "data": {
      "text/plain": [
       "<matplotlib.image.AxesImage at 0x7ff59cde7d30>"
      ]
     },
     "execution_count": 89,
     "metadata": {},
     "output_type": "execute_result"
    },
    {
     "data": {
      "image/png": "[encoded data removed]",
      "text/plain": [
       "<Figure size 432x288 with 1 Axes>"
      ]
     },
     "metadata": {
      "needs_background": "light"
     },
     "output_type": "display_data"
    }
   ],
   "source": [
    "def spectrogram(x, y, windowtype, dxspec, ymin, ymax):\n",
    "    \"\"\"create a 2D spectrogram from time-series data\n",
    "    define type of window to be used. dxspec defines f and x resolution\"\"\"\n",
    "    dx = x[1] - x[0]\n",
    "    neach = int(dxspec*2//dx)\n",
    "    xstart = int(neach//2)\n",
    "    xend = len(x) - xstart - 1\n",
    "    jump = xstart\n",
    "    nfft = int((xend - xstart)//jump)\n",
    "    xspec = np.linspace(x[xstart], x[xend], num=nfft)\n",
    "    yspec = np.fft.rfftfreq(neach, dx)\n",
    "    z = np.zeros((nfft, len(yspec)), dtype='complex')\n",
    "    window = windowtype(np.arange(neach), neach)\n",
    "    for i in range(0, nfft):\n",
    "        asd = np.fft.rfft(y[i*jump:i*jump+neach]*window)\n",
    "        z[i, :] = asd*np.conj(asd)\n",
    "    i1 = np.argmax(yspec > ymin)\n",
    "    i2 = np.argmax(yspec > ymax)\n",
    "    return xspec, yspec[i1:i2], np.real(z[:, i1:i2])\n",
    "\n",
    "\n",
    "f1, f2 = 30, 400\n",
    "t, f, spec = spectrogram(ts, strain, Hann, 0.05, f1, f2)\n",
    "plt.imshow(np.transpose(spec[int(9/0.05):-int(9/0.05), :]), cmap='viridis', origin='lower', aspect='auto', extent=[t[0],t[-1],f[0],f[-1]])"
   ]
  },
  {
   "cell_type": "markdown",
   "metadata": {},
   "source": [
    "Perform a Q transform of the data."
   ]
  },
  {
   "cell_type": "code",
   "execution_count": 139,
   "metadata": {},
   "outputs": [
    {
     "data": {
      "text/plain": [
       "<matplotlib.colorbar.Colorbar at 0x7ff591a166d8>"
      ]
     },
     "execution_count": 139,
     "metadata": {},
     "output_type": "execute_result"
    },
    {
     "data": {
      "image/png": "[encoded data removed]",
      "text/plain": [
       "<Figure size 432x288 with 2 Axes>"
      ]
     },
     "metadata": {
      "needs_background": "light"
     },
     "output_type": "display_data"
    }
   ],
   "source": [
    "def slow_qtransform(x, y, qval, window, yeval):\n",
    "    q = np.zeros((len(x), len(yeval)), dtype='complex')\n",
    "    dx = x[1] - x[0]\n",
    "    for i in range(0, len(yeval)):\n",
    "        fi = yeval[i]\n",
    "        windowxp = qval/fi\n",
    "        windown = int(windowxp/dx)\n",
    "        windowy = window(np.arange(windown), windown)\n",
    "        windowy *= 1/np.sum(windowy)\n",
    "        windowx = np.arange(windown)*dx\n",
    "        windowyf = windowy * (np.cos(2*np.pi*fi*windowx) - 1j*np.sin(2*np.pi*fi*windowx))\n",
    "        qpre = np.correlate(y, windowyf, mode='full')\n",
    "        cut = int(np.floor(windown/2))\n",
    "        q[:, i] = qpre[cut-1+windown%2:-cut]*np.conj(qpre[cut-1+windown%2:-cut])\n",
    "    return np.real(q)\n",
    "\n",
    "\n",
    "def qtransform(x, y, qval, window, yeval):\n",
    "    q = np.zeros((len(x), len(yeval)), dtype='complex')\n",
    "    dx = x[1] - x[0]\n",
    "    num = len(x)\n",
    "    freqs = np.fft.rfftfreq(num, dx)\n",
    "    xft = np.fft.rfft(x)\n",
    "    for i in range(0, len(yeval)):\n",
    "        fi = yeval[i]\n",
    "        shift = int(fi/(freqs[1]-freqs[0]))\n",
    "        xfti = np.zeros((len(xft)), dtype='complex')\n",
    "        xfti[:-shift] += xft[shift:]\n",
    "        windown = int(qval/(fi*dx))\n",
    "        windowy = np.zeros((num), dtype='float')\n",
    "        windowy[:windown] += window(np.arange(windown), windown)\n",
    "        windowft = np.fft.rfft(windowy)\n",
    "        qft = xfti*np.conj(windowft)\n",
    "        q0 = np.fft.irfft(qft)\n",
    "        q[:, i] = q0*np.conj(q0)\n",
    "    return np.real(q)\n",
    "\n",
    "f1, f2 = 30, 400\n",
    "feval = np.geomspace(f1, f2, endpoint=True, num=500)\n",
    "#feval = np.linspace(f1, f2, endpoint=True, num=100)\n",
    "q = qtransform(ts, strain, 10, Hann, feval)\n",
    "plt.imshow(np.transpose(q[int(9.8*fs):-int(9.8*fs), :]), cmap='viridis', origin='lower', aspect='auto')\n",
    "plt.colorbar()"
   ]
  }
 ],
 "metadata": {
  "kernelspec": {
   "display_name": "Python 3",
   "language": "python",
   "name": "python3"
  },
  "language_info": {
   "codemirror_mode": {
    "name": "ipython",
    "version": 3
   },
   "file_extension": ".py",
   "mimetype": "text/x-python",
   "name": "python",
   "nbconvert_exporter": "python",
   "pygments_lexer": "ipython3",
   "version": "3.7.0"
  }
 },
 "nbformat": 4,
 "nbformat_minor": 2
}
